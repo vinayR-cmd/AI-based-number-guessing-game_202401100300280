{
  "nbformat": 4,
  "nbformat_minor": 0,
  "metadata": {
    "colab": {
      "provenance": []
    },
    "kernelspec": {
      "name": "python3",
      "display_name": "Python 3"
    },
    "language_info": {
      "name": "python"
    }
  },
  "cells": [
    {
      "cell_type": "code",
      "execution_count": 8,
      "metadata": {
        "colab": {
          "base_uri": "https://localhost:8080/"
        },
        "id": "nkvmH2IxkcV3",
        "outputId": "02b0cb29-1be8-405b-8daa-8b1e7a0943b4"
      },
      "outputs": [
        {
          "output_type": "stream",
          "name": "stdout",
          "text": [
            "Enter a secret number between 1 and 100: 91\n",
            "\n",
            "The AI will now try to guess your number!\n",
            "AI guesses: 50 (Remaining possible numbers: 100) -> Too low\n",
            "AI guesses: 75 (Remaining possible numbers: 50) -> Too low\n",
            "AI guesses: 88 (Remaining possible numbers: 25) -> Too low\n",
            "AI guesses: 94 (Remaining possible numbers: 12) -> Too high\n",
            "AI guesses: 91 (Remaining possible numbers: 5) ✅ Correct!\n",
            "AI guessed your number 91 in 5 attempts! 🎉\n"
          ]
        }
      ],
      "source": [
        "def play_game():\n",
        "    \"\"\"Efficient AI-based number guessing game with user input.\"\"\"\n",
        "\n",
        "    # Step 1: Ask the user to enter a secret number\n",
        "    while True:\n",
        "        try:\n",
        "            secret_number = int(input(\"Enter a secret number between 1 and 100: \"))\n",
        "            if 1 <= secret_number <= 100:\n",
        "                break\n",
        "            else:\n",
        "                print(\"Please enter a valid number between 1 and 100.\")\n",
        "        except ValueError:\n",
        "            print(\"Invalid input! Please enter an integer.\")\n",
        "\n",
        "    print(\"\\nThe AI will now try to guess your number!\")\n",
        "\n",
        "    # Step 2: Initialize search bounds and attempts counter\n",
        "    lower_bound, upper_bound = 1, 100\n",
        "    attempts = 0\n",
        "\n",
        "    # Step 3: AI starts guessing using binary search logic\n",
        "    while lower_bound <= upper_bound:\n",
        "        guess = (lower_bound + upper_bound) // 2  # AI picks the midpoint\n",
        "        attempts += 1\n",
        "        remaining_options = upper_bound - lower_bound + 1  # Possible remaining numbers\n",
        "\n",
        "        # Print the guess and remaining possible numbers\n",
        "        print(f\"AI guesses: {guess} (Remaining possible numbers: {remaining_options})\", end=\" \")\n",
        "\n",
        "        if guess == secret_number:  # AI guessed correctly\n",
        "            print(\"✅ Correct!\")\n",
        "            print(f\"AI guessed your number {secret_number} in {attempts} attempts! 🎉\")\n",
        "            return  # End the game\n",
        "\n",
        "        elif guess < secret_number:  # AI guessed too low\n",
        "            print(\"-> Too low\")\n",
        "            lower_bound = guess + 1  # Adjust lower bound\n",
        "\n",
        "        else:  # AI guessed too high\n",
        "            print(\"-> Too high\")\n",
        "            upper_bound = guess - 1  # Adjust upper bound\n",
        "\n",
        "# Run the game\n",
        "play_game()\n"
      ]
    },
    {
      "cell_type": "code",
      "source": [
        "def play_game():\n",
        "    \"\"\"Efficient AI-based number guessing game with user input.\"\"\"\n",
        "\n",
        "    # Step 1: Ask the user to enter a secret number\n",
        "    while True:\n",
        "        try:\n",
        "            secret_number = int(input(\"Enter a secret number between 1 and 100: \"))\n",
        "            if 1 <= secret_number <= 100:\n",
        "                break\n",
        "            else:\n",
        "                print(\"Please enter a valid number between 1 and 100.\")\n",
        "        except ValueError:\n",
        "            print(\"Invalid input! Please enter an integer.\")\n",
        "\n",
        "    print(\"\\nThe AI will now try to guess your number!\")\n",
        "\n",
        "    # Step 2: Initialize search bounds and attempts counter\n",
        "    lower_bound, upper_bound = 1, 100\n",
        "    attempts = 0\n",
        "\n",
        "    # Step 3: AI starts guessing using binary search logic\n",
        "    while lower_bound <= upper_bound:\n",
        "        guess = (lower_bound + upper_bound) // 2  # AI picks the midpoint\n",
        "        attempts += 1\n",
        "        remaining_options = upper_bound - lower_bound + 1  # Possible remaining numbers\n",
        "\n",
        "        # Print the guess and remaining possible numbers\n",
        "        print(f\"AI guesses: {guess} (Remaining possible numbers: {remaining_options})\", end=\" \")\n",
        "\n",
        "        if guess == secret_number:  # AI guessed correctly\n",
        "            print(\"✅ Correct!\")\n",
        "            print(f\"AI guessed your number {secret_number} in {attempts} attempts! 🎉\")\n",
        "            return  # End the game\n",
        "\n",
        "        elif guess < secret_number:  # AI guessed too low\n",
        "            print(\"-> Too low\")\n",
        "            lower_bound = guess + 1  # Adjust lower bound\n",
        "\n",
        "        else:  # AI guessed too high\n",
        "            print(\"-> Too high\")\n",
        "            upper_bound = guess - 1  # Adjust upper bound\n",
        "\n",
        "# Run the game\n",
        "play_game()\n"
      ],
      "metadata": {
        "colab": {
          "base_uri": "https://localhost:8080/"
        },
        "id": "rqX3R9gQxJ_D",
        "outputId": "a91e0ce3-1f89-40fc-c611-dc0bcd5fa437"
      },
      "execution_count": 9,
      "outputs": [
        {
          "output_type": "stream",
          "name": "stdout",
          "text": [
            "Enter a secret number between 1 and 100: 64\n",
            "\n",
            "The AI will now try to guess your number!\n",
            "AI guesses: 50 (Remaining possible numbers: 100) -> Too low\n",
            "AI guesses: 75 (Remaining possible numbers: 50) -> Too high\n",
            "AI guesses: 62 (Remaining possible numbers: 24) -> Too low\n",
            "AI guesses: 68 (Remaining possible numbers: 12) -> Too high\n",
            "AI guesses: 65 (Remaining possible numbers: 5) -> Too high\n",
            "AI guesses: 63 (Remaining possible numbers: 2) -> Too low\n",
            "AI guesses: 64 (Remaining possible numbers: 1) ✅ Correct!\n",
            "AI guessed your number 64 in 7 attempts! 🎉\n"
          ]
        }
      ]
    }
  ]
}